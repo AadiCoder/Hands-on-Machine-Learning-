{
 "cells": [
  {
   "cell_type": "code",
   "execution_count": 2,
   "id": "b81e1c4a",
   "metadata": {},
   "outputs": [
    {
     "name": "stdout",
     "output_type": "stream",
     "text": [
      "    color  diameter  label\n",
      "0   green         3  Mango\n",
      "1  yellow         3  Mango\n",
      "2     red         1  Grape\n",
      "3     red         1  Grape\n",
      "4  yellow         3  Lemon\n"
     ]
    },
    {
     "data": {
      "text/html": [
       "<div>\n",
       "<style scoped>\n",
       "    .dataframe tbody tr th:only-of-type {\n",
       "        vertical-align: middle;\n",
       "    }\n",
       "\n",
       "    .dataframe tbody tr th {\n",
       "        vertical-align: top;\n",
       "    }\n",
       "\n",
       "    .dataframe thead th {\n",
       "        text-align: right;\n",
       "    }\n",
       "</style>\n",
       "<table border=\"1\" class=\"dataframe\">\n",
       "  <thead>\n",
       "    <tr style=\"text-align: right;\">\n",
       "      <th></th>\n",
       "      <th>color</th>\n",
       "      <th>diameter</th>\n",
       "      <th>label</th>\n",
       "    </tr>\n",
       "  </thead>\n",
       "  <tbody>\n",
       "    <tr>\n",
       "      <th>0</th>\n",
       "      <td>green</td>\n",
       "      <td>3</td>\n",
       "      <td>Mango</td>\n",
       "    </tr>\n",
       "    <tr>\n",
       "      <th>1</th>\n",
       "      <td>yellow</td>\n",
       "      <td>3</td>\n",
       "      <td>Mango</td>\n",
       "    </tr>\n",
       "    <tr>\n",
       "      <th>2</th>\n",
       "      <td>red</td>\n",
       "      <td>1</td>\n",
       "      <td>Grape</td>\n",
       "    </tr>\n",
       "    <tr>\n",
       "      <th>3</th>\n",
       "      <td>red</td>\n",
       "      <td>1</td>\n",
       "      <td>Grape</td>\n",
       "    </tr>\n",
       "    <tr>\n",
       "      <th>4</th>\n",
       "      <td>yellow</td>\n",
       "      <td>3</td>\n",
       "      <td>Lemon</td>\n",
       "    </tr>\n",
       "  </tbody>\n",
       "</table>\n",
       "</div>"
      ],
      "text/plain": [
       "    color  diameter  label\n",
       "0   green         3  Mango\n",
       "1  yellow         3  Mango\n",
       "2     red         1  Grape\n",
       "3     red         1  Grape\n",
       "4  yellow         3  Lemon"
      ]
     },
     "execution_count": 2,
     "metadata": {},
     "output_type": "execute_result"
    }
   ],
   "source": [
    "import pandas as pd\n",
    "import matplotlib.pyplot as plt\n",
    "import seaborn as sns\n",
    "\n",
    "df=pd.read_csv('dataset - dataset.csv')\n",
    "print(df.head())\n",
    "\n",
    "X=df.iloc[:,0:2].values\n",
    "y=df.iloc[:,2].values\n",
    "df"
   ]
  },
  {
   "cell_type": "code",
   "execution_count": 2,
   "id": "e9e99582",
   "metadata": {},
   "outputs": [
    {
     "name": "stdout",
     "output_type": "stream",
     "text": [
      "[[0 3]\n",
      " [2 3]\n",
      " [1 1]\n",
      " [1 1]\n",
      " [2 3]]\n",
      "[2 2 0 0 1]\n"
     ]
    }
   ],
   "source": [
    "from sklearn.preprocessing import LabelEncoder\n",
    "X_labelencoder = LabelEncoder()\n",
    "X[:, 0] = X_labelencoder.fit_transform(X[:, 0])\n",
    "print (X)\n",
    "\n",
    "\n",
    "y_labelencoder = LabelEncoder ()\n",
    "y = y_labelencoder.fit_transform (y)\n",
    "print (y)"
   ]
  },
  {
   "cell_type": "code",
   "execution_count": 3,
   "id": "b202ab6e",
   "metadata": {},
   "outputs": [
    {
     "data": {
      "text/plain": [
       "array([0, 1])"
      ]
     },
     "execution_count": 3,
     "metadata": {},
     "output_type": "execute_result"
    }
   ],
   "source": [
    "from sklearn.model_selection import train_test_split\n",
    "\n",
    "X_train, X_test, y_train, y_test = train_test_split(X, y, test_size=0.3, random_state=2)\n",
    "y_test"
   ]
  },
  {
   "cell_type": "code",
   "execution_count": 4,
   "id": "02c616de",
   "metadata": {},
   "outputs": [],
   "source": [
    "from sklearn.tree import DecisionTreeClassifier\n",
    "d_t= DecisionTreeClassifier(criterion =\"entropy\",max_depth =3)"
   ]
  },
  {
   "cell_type": "code",
   "execution_count": 5,
   "id": "6875ce82",
   "metadata": {},
   "outputs": [
    {
     "data": {
      "text/plain": [
       "DecisionTreeClassifier(criterion='entropy', max_depth=3)"
      ]
     },
     "execution_count": 5,
     "metadata": {},
     "output_type": "execute_result"
    }
   ],
   "source": [
    "d_t.fit(X_train,y_train)"
   ]
  },
  {
   "cell_type": "code",
   "execution_count": 6,
   "id": "f52e0d99",
   "metadata": {},
   "outputs": [
    {
     "data": {
      "text/plain": [
       "array([0, 2])"
      ]
     },
     "execution_count": 6,
     "metadata": {},
     "output_type": "execute_result"
    }
   ],
   "source": [
    "prd =d_t.predict(X_test)\n",
    "prd"
   ]
  },
  {
   "cell_type": "code",
   "execution_count": 7,
   "id": "51fcbcea",
   "metadata": {},
   "outputs": [
    {
     "name": "stdout",
     "output_type": "stream",
     "text": [
      "Root Mean Square Error:\n",
      "0.7071067811865476\n"
     ]
    }
   ],
   "source": [
    "from sklearn import metrics\n",
    "import numpy as np\n",
    "from sklearn.metrics import mean_squared_error\n",
    "from math import sqrt\n",
    "\n",
    "print(\"Root Mean Square Error:\")\n",
    "print(np.sqrt(mean_squared_error(y_test,prd)))"
   ]
  },
  {
   "cell_type": "code",
   "execution_count": 8,
   "id": "878d6fd4",
   "metadata": {
    "scrolled": true
   },
   "outputs": [],
   "source": [
    "data_feature_name =[\"color\",\"diameter\"]\n",
    "\n",
    "from sklearn.tree import export_graphviz"
   ]
  },
  {
   "cell_type": "code",
   "execution_count": 9,
   "id": "f37686b1",
   "metadata": {},
   "outputs": [],
   "source": [
    "from sklearn import tree\n",
    "from graphviz import Source"
   ]
  },
  {
   "cell_type": "code",
   "execution_count": 11,
   "id": "a5f1fae1",
   "metadata": {},
   "outputs": [
    {
     "data": {
      "image/svg+xml": [
       "<svg xmlns=\"http://www.w3.org/2000/svg\" xmlns:xlink=\"http://www.w3.org/1999/xlink\" width=\"218pt\" height=\"165pt\" viewBox=\"0.00 0.00 218.00 165.00\">\n",
       "<g id=\"graph0\" class=\"graph\" transform=\"scale(1 1) rotate(0) translate(4 161)\">\n",
       "<title>Tree</title>\n",
       "<polygon fill=\"white\" stroke=\"transparent\" points=\"-4,4 -4,-161 214,-161 214,4 -4,4\"/>\n",
       "<!-- 0 -->\n",
       "<g id=\"node1\" class=\"node\">\n",
       "<title>0</title>\n",
       "<path fill=\"#9ccef2\" stroke=\"black\" d=\"M149.5,-157C149.5,-157 60.5,-157 60.5,-157 54.5,-157 48.5,-151 48.5,-145 48.5,-145 48.5,-101 48.5,-101 48.5,-95 54.5,-89 60.5,-89 60.5,-89 149.5,-89 149.5,-89 155.5,-89 161.5,-95 161.5,-101 161.5,-101 161.5,-145 161.5,-145 161.5,-151 155.5,-157 149.5,-157\"/>\n",
       "<text text-anchor=\"middle\" x=\"105\" y=\"-141.8\" font-family=\"Helvetica,sans-Serif\" font-size=\"14.00\">diameter &lt;= 2.0</text>\n",
       "<text text-anchor=\"middle\" x=\"105\" y=\"-126.8\" font-family=\"Helvetica,sans-Serif\" font-size=\"14.00\">entropy = 0.918</text>\n",
       "<text text-anchor=\"middle\" x=\"105\" y=\"-111.8\" font-family=\"Helvetica,sans-Serif\" font-size=\"14.00\">samples = 3</text>\n",
       "<text text-anchor=\"middle\" x=\"105\" y=\"-96.8\" font-family=\"Helvetica,sans-Serif\" font-size=\"14.00\">value = [1, 2]</text>\n",
       "</g>\n",
       "<!-- 1 -->\n",
       "<g id=\"node2\" class=\"node\">\n",
       "<title>1</title>\n",
       "<path fill=\"#e58139\" stroke=\"black\" d=\"M84,-53C84,-53 12,-53 12,-53 6,-53 0,-47 0,-41 0,-41 0,-12 0,-12 0,-6 6,0 12,0 12,0 84,0 84,0 90,0 96,-6 96,-12 96,-12 96,-41 96,-41 96,-47 90,-53 84,-53\"/>\n",
       "<text text-anchor=\"middle\" x=\"48\" y=\"-37.8\" font-family=\"Helvetica,sans-Serif\" font-size=\"14.00\">entropy = 0.0</text>\n",
       "<text text-anchor=\"middle\" x=\"48\" y=\"-22.8\" font-family=\"Helvetica,sans-Serif\" font-size=\"14.00\">samples = 1</text>\n",
       "<text text-anchor=\"middle\" x=\"48\" y=\"-7.8\" font-family=\"Helvetica,sans-Serif\" font-size=\"14.00\">value = [1, 0]</text>\n",
       "</g>\n",
       "<!-- 0&#45;&gt;1 -->\n",
       "<g id=\"edge1\" class=\"edge\">\n",
       "<title>0-&gt;1</title>\n",
       "<path fill=\"none\" stroke=\"black\" d=\"M85.06,-88.95C79.77,-80.17 74.03,-70.66 68.7,-61.82\"/>\n",
       "<polygon fill=\"black\" stroke=\"black\" points=\"71.69,-59.99 63.52,-53.24 65.69,-63.61 71.69,-59.99\"/>\n",
       "<text text-anchor=\"middle\" x=\"57.52\" y=\"-73.8\" font-family=\"Helvetica,sans-Serif\" font-size=\"14.00\">True</text>\n",
       "</g>\n",
       "<!-- 2 -->\n",
       "<g id=\"node3\" class=\"node\">\n",
       "<title>2</title>\n",
       "<path fill=\"#399de5\" stroke=\"black\" d=\"M198,-53C198,-53 126,-53 126,-53 120,-53 114,-47 114,-41 114,-41 114,-12 114,-12 114,-6 120,0 126,0 126,0 198,0 198,0 204,0 210,-6 210,-12 210,-12 210,-41 210,-41 210,-47 204,-53 198,-53\"/>\n",
       "<text text-anchor=\"middle\" x=\"162\" y=\"-37.8\" font-family=\"Helvetica,sans-Serif\" font-size=\"14.00\">entropy = 0.0</text>\n",
       "<text text-anchor=\"middle\" x=\"162\" y=\"-22.8\" font-family=\"Helvetica,sans-Serif\" font-size=\"14.00\">samples = 2</text>\n",
       "<text text-anchor=\"middle\" x=\"162\" y=\"-7.8\" font-family=\"Helvetica,sans-Serif\" font-size=\"14.00\">value = [0, 2]</text>\n",
       "</g>\n",
       "<!-- 0&#45;&gt;2 -->\n",
       "<g id=\"edge2\" class=\"edge\">\n",
       "<title>0-&gt;2</title>\n",
       "<path fill=\"none\" stroke=\"black\" d=\"M124.94,-88.95C130.23,-80.17 135.97,-70.66 141.3,-61.82\"/>\n",
       "<polygon fill=\"black\" stroke=\"black\" points=\"144.31,-63.61 146.48,-53.24 138.31,-59.99 144.31,-63.61\"/>\n",
       "<text text-anchor=\"middle\" x=\"152.48\" y=\"-73.8\" font-family=\"Helvetica,sans-Serif\" font-size=\"14.00\">False</text>\n",
       "</g>\n",
       "</g>\n",
       "</svg>"
      ],
      "text/plain": [
       "<IPython.core.display.SVG object>"
      ]
     },
     "metadata": {},
     "output_type": "display_data"
    }
   ],
   "source": [
    "from IPython.display import SVG\n",
    "from IPython.display import display\n",
    "\n",
    "graph = Source(tree.export_graphviz(d_t,out_file =None, feature_names =data_feature_name,filled  =True,rounded =True))\n",
    "display(SVG(graph.pipe(format='svg')))"
   ]
  },
  {
   "cell_type": "code",
   "execution_count": null,
   "id": "6b303a99",
   "metadata": {},
   "outputs": [],
   "source": []
  }
 ],
 "metadata": {
  "kernelspec": {
   "display_name": "Python 3 (ipykernel)",
   "language": "python",
   "name": "python3"
  },
  "language_info": {
   "codemirror_mode": {
    "name": "ipython",
    "version": 3
   },
   "file_extension": ".py",
   "mimetype": "text/x-python",
   "name": "python",
   "nbconvert_exporter": "python",
   "pygments_lexer": "ipython3",
   "version": "3.9.13"
  }
 },
 "nbformat": 4,
 "nbformat_minor": 5
}
